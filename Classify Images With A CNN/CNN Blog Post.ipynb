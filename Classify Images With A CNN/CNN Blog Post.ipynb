{
 "cells": [
  {
   "cell_type": "code",
   "execution_count": 31,
   "metadata": {},
   "outputs": [],
   "source": [
    "from os import walk\n",
    "import cv2\n",
    "import random\n",
    "import numpy as np\n",
    "from keras.models import Sequential\n",
    "from keras.layers import Conv2D, MaxPooling2D\n",
    "from keras.layers import Activation, Dropout, Flatten, Dense\n",
    "from sklearn.metrics import confusion_matrix"
   ]
  },
  {
   "cell_type": "code",
   "execution_count": 32,
   "metadata": {},
   "outputs": [],
   "source": [
    "#change the paths to the location of your images\n",
    "lab = \"~/Labridae\"\n",
    "gob = \"~/Gobiidae\"\n",
    "\n",
    "fish_paths = []\n",
    "\n",
    "for (dirpath, dirnames, filenames) in walk(lab):\n",
    "    for i in range(len(filenames)):\n",
    "        lab_img = dirpath + '/' + filenames[i]\n",
    "        if \"Store\" not in lab_img:  \n",
    "            fish_paths.append(lab_img)\n",
    "    break\n",
    "\n",
    "for (dirpath, dirnames, filenames) in walk(gob):\n",
    "    for i in range(len(filenames)):\n",
    "        gob_img = dirpath + '/' + filenames[i]\n",
    "        if \"Store\" not in gob_img:\n",
    "            fish_paths.append(gob_img)\n",
    "    break"
   ]
  },
  {
   "cell_type": "code",
   "execution_count": 33,
   "metadata": {},
   "outputs": [],
   "source": [
    "x_train_ordered = []\n",
    "y_train_ordered = []\n",
    "\n",
    "for i in fish_paths:\n",
    "    img = cv2.imread(i)\n",
    "    # standardize size for prediction step\n",
    "    img = cv2.resize(img, (150, 150))\n",
    "    img = img/255.0\n",
    "    #img = img.reshape((1,) + img.shape)\n",
    "    x_train_ordered.append(img)\n",
    "\n",
    "    if \"Labridae\" in i:\n",
    "        y_train_ordered.append(0)\n",
    "    else:\n",
    "        y_train_ordered.append(1)"
   ]
  },
  {
   "cell_type": "code",
   "execution_count": 35,
   "metadata": {},
   "outputs": [],
   "source": [
    "to_shuffle = range(len(x_train_ordered))\n",
    "random.shuffle(to_shuffle)\n",
    "\n",
    "x_train = []\n",
    "y_train = []\n",
    "\n",
    "for i in to_shuffle:\n",
    "    x_train.append(x_train_ordered[i])\n",
    "    y_train.append(y_train_ordered[i])"
   ]
  },
  {
   "cell_type": "code",
   "execution_count": 37,
   "metadata": {},
   "outputs": [],
   "source": [
    "test_indices = sorted(random.sample(range(len(x_train)), 200),reverse=True)\n",
    "\n",
    "x_test = []\n",
    "y_test = []\n",
    "\n",
    "for i in test_indices:\n",
    "    x_test.append(x_train[i])\n",
    "    y_test.append(y_train[i])\n",
    "    \n",
    "    del x_train[i]\n",
    "    del y_train[i]"
   ]
  },
  {
   "cell_type": "code",
   "execution_count": 38,
   "metadata": {},
   "outputs": [],
   "source": [
    "x_train = np.asarray(x_train)\n",
    "y_train = np.asarray(y_train)\n",
    "\n",
    "x_test = np.asarray(x_test)\n",
    "y_test = np.asarray(y_test)"
   ]
  },
  {
   "cell_type": "code",
   "execution_count": 48,
   "metadata": {},
   "outputs": [],
   "source": [
    "# dimensions of our images.\n",
    "#img_width, img_height = 150, 150\n",
    "\n",
    "model = Sequential()\n",
    "model.add(Conv2D(32, (3, 3), input_shape=(150,150,3)))\n",
    "model.add(Activation('relu'))\n",
    "model.add(MaxPooling2D(pool_size=(2, 2)))\n",
    "\n",
    "model.add(Conv2D(32, (3, 3)))\n",
    "model.add(Activation('relu'))\n",
    "model.add(MaxPooling2D(pool_size=(2, 2)))\n",
    "\n",
    "model.add(Conv2D(64, (3, 3)))\n",
    "model.add(Activation('relu'))\n",
    "model.add(MaxPooling2D(pool_size=(2, 2)))\n",
    "\n",
    "model.add(Flatten())\n",
    "model.add(Dense(64))\n",
    "model.add(Activation('relu'))\n",
    "model.add(Dropout(0.5))\n",
    "model.add(Dense(1))\n",
    "model.add(Activation('sigmoid'))\n",
    "\n",
    "model.compile(loss='mean_squared_error',\n",
    "              optimizer='rmsprop',\n",
    "              metrics=['accuracy'])"
   ]
  },
  {
   "cell_type": "code",
   "execution_count": 49,
   "metadata": {},
   "outputs": [
    {
     "name": "stdout",
     "output_type": "stream",
     "text": [
      "Train on 1797 samples, validate on 200 samples\n",
      "Epoch 1/7\n",
      "1797/1797 [==============================] - 80s 45ms/step - loss: 0.1299 - acc: 0.8191 - val_loss: 0.0710 - val_acc: 0.8950\n",
      "Epoch 2/7\n",
      "1797/1797 [==============================] - 80s 44ms/step - loss: 0.0458 - acc: 0.9438 - val_loss: 0.0215 - val_acc: 0.9700\n",
      "Epoch 3/7\n",
      "1797/1797 [==============================] - 93s 52ms/step - loss: 0.0279 - acc: 0.9677 - val_loss: 0.0662 - val_acc: 0.9150\n",
      "Epoch 4/7\n",
      "1797/1797 [==============================] - 83s 46ms/step - loss: 0.0273 - acc: 0.9672 - val_loss: 0.0235 - val_acc: 0.9700\n",
      "Epoch 5/7\n",
      "1797/1797 [==============================] - 91s 50ms/step - loss: 0.0198 - acc: 0.9738 - val_loss: 0.0158 - val_acc: 0.9850\n",
      "Epoch 6/7\n",
      "1797/1797 [==============================] - 82s 45ms/step - loss: 0.0137 - acc: 0.9833 - val_loss: 0.0189 - val_acc: 0.9800\n",
      "Epoch 7/7\n",
      "1797/1797 [==============================] - 77s 43ms/step - loss: 0.0170 - acc: 0.9794 - val_loss: 0.0136 - val_acc: 0.9850\n"
     ]
    },
    {
     "data": {
      "text/plain": [
       "<keras.callbacks.History at 0x18a061bd10>"
      ]
     },
     "execution_count": 49,
     "metadata": {},
     "output_type": "execute_result"
    }
   ],
   "source": [
    "model.fit(x_train, y_train, \n",
    "          batch_size=32, epochs=7, verbose=1, validation_data = (x_test,y_test))"
   ]
  },
  {
   "cell_type": "code",
   "execution_count": 42,
   "metadata": {},
   "outputs": [],
   "source": [
    "predictions = model.predict(x_test).round()"
   ]
  },
  {
   "cell_type": "code",
   "execution_count": 66,
   "metadata": {},
   "outputs": [
    {
     "data": {
      "text/plain": [
       "array([[113,   1],\n",
       "       [  2,  84]])"
      ]
     },
     "execution_count": 66,
     "metadata": {},
     "output_type": "execute_result"
    }
   ],
   "source": [
    "confusion_matrix(y_test, np.squeeze(predictions, axis=1))"
   ]
  }
 ],
 "metadata": {
  "kernelspec": {
   "display_name": "Python 2",
   "language": "python",
   "name": "python2"
  },
  "language_info": {
   "codemirror_mode": {
    "name": "ipython",
    "version": 2
   },
   "file_extension": ".py",
   "mimetype": "text/x-python",
   "name": "python",
   "nbconvert_exporter": "python",
   "pygments_lexer": "ipython2",
   "version": "2.7.14"
  }
 },
 "nbformat": 4,
 "nbformat_minor": 2
}
